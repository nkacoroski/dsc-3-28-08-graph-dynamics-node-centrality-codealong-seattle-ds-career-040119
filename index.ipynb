{
 "cells": [
  {
   "cell_type": "markdown",
   "metadata": {},
   "source": [
    "# Node Centrality "
   ]
  },
  {
   "cell_type": "markdown",
   "metadata": {},
   "source": [
    "## Introduction\n",
    "\n",
    "Dijkstra's algorithm and other path related searches are essential for establishing a common distance metric within network graphs. With that, one can investigate relationships between nodes. For example, in the context of social networks, one might wonder who is the most influential to various social circles. Alternatively, if you were studying the spread of disease, it would be important to identify key stakeholders for quarantining the disease off from subpopulations. The umbrella term for these metrics is known as centrality. In this lesson, you'll take a look at four measures of centrality and how they can collectively uncover important relationships within networks.\n",
    "\n",
    "## Objectives\n",
    "\n",
    "You will be able to:\n",
    "\n",
    "* Understand and explain network centrality and its importance in graph analysis\n",
    "* Understand and calculate Degree, Closeness, Betweenness and Eigenvector centrality measures\n",
    "* Describe the use case for several centrality measures"
   ]
  },
  {
   "cell_type": "markdown",
   "metadata": {},
   "source": [
    "## Centrality\n",
    "\n",
    "A central concept to graphs is centrality. Take the social network below, created from a subset of twitter data. Some of the nodes are enmeshed in the network, with many connections amongst other nodes. Others, such as node 95, are tied to this central hub, but only weakly through a single connection to the main hub. Two nodes, 86 and 87, aren't even directly tied to the main cluster, and are floating on an island on their own. By quantifying the relationships between nodes, one can better understand the underlying structure of networks."
   ]
  },
  {
   "cell_type": "code",
   "execution_count": 1,
   "metadata": {},
   "outputs": [],
   "source": [
    "import networkx as nx\n",
    "import matplotlib.pyplot as plt\n",
    "%matplotlib inline"
   ]
  },
  {
   "cell_type": "code",
   "execution_count": 2,
   "metadata": {},
   "outputs": [
    {
     "ename": "TypeError",
     "evalue": "fruchterman_reingold_layout() got an unexpected keyword argument 'random_state'",
     "output_type": "error",
     "traceback": [
      "\u001b[0;31m\u001b[0m",
      "\u001b[0;31mTypeError\u001b[0mTraceback (most recent call last)",
      "\u001b[0;32m<ipython-input-2-74dc578020fe>\u001b[0m in \u001b[0;36m<module>\u001b[0;34m()\u001b[0m\n\u001b[1;32m      6\u001b[0m \u001b[0mfig\u001b[0m \u001b[0;34m=\u001b[0m \u001b[0mplt\u001b[0m\u001b[0;34m.\u001b[0m\u001b[0mfigure\u001b[0m\u001b[0;34m(\u001b[0m\u001b[0mfigsize\u001b[0m\u001b[0;34m=\u001b[0m\u001b[0;34m(\u001b[0m\u001b[0;36m15\u001b[0m\u001b[0;34m,\u001b[0m\u001b[0;36m10\u001b[0m\u001b[0;34m)\u001b[0m\u001b[0;34m)\u001b[0m\u001b[0;34m\u001b[0m\u001b[0m\n\u001b[1;32m      7\u001b[0m \u001b[0;31m#Draw the network!\u001b[0m\u001b[0;34m\u001b[0m\u001b[0;34m\u001b[0m\u001b[0m\n\u001b[0;32m----> 8\u001b[0;31m nx.draw(G, pos=nx.spring_layout(G, random_state=5), with_labels=True,\n\u001b[0m\u001b[1;32m      9\u001b[0m         alpha=.8, node_color=\"#1cf0c7\", node_size=700)\n",
      "\u001b[0;31mTypeError\u001b[0m: fruchterman_reingold_layout() got an unexpected keyword argument 'random_state'"
     ]
    },
    {
     "data": {
      "text/plain": [
       "<Figure size 1080x720 with 0 Axes>"
      ]
     },
     "metadata": {},
     "output_type": "display_data"
    }
   ],
   "source": [
    "#Load the Network from File\n",
    "G = nx.read_edgelist(\"twitter.edges\")\n",
    "#Simplify the Node Labels\n",
    "G = nx.relabel_nodes(G, dict(zip(G.nodes, range(len(G.nodes)))))\n",
    "#Create a matplotlib figure\n",
    "fig = plt.figure(figsize=(15,10))\n",
    "#Draw the network!\n",
    "nx.draw(G, pos=nx.spring_layout(G, random_state=5), with_labels=True,\n",
    "        alpha=.8, node_color=\"#1cf0c7\", node_size=700)"
   ]
  },
  {
   "cell_type": "markdown",
   "metadata": {},
   "source": [
    "## Degree Centrality \n",
    "\n",
    "The most primitive measure of centrality is degree centrality. This is simply the number of edges attached to a node. In directed graphs, one can measure both the in-degree and out-degree of nodes. Implementing this in NetworkX is incredibly straightforward:"
   ]
  },
  {
   "cell_type": "code",
   "execution_count": 3,
   "metadata": {},
   "outputs": [
    {
     "data": {
      "text/plain": [
       "DegreeView({0: 3, 1: 24, 2: 13, 3: 10, 4: 5, 5: 2, 6: 9, 7: 1, 8: 4, 9: 14, 10: 7, 11: 14, 12: 7, 13: 5, 14: 20, 15: 7, 16: 8, 17: 10, 18: 21, 19: 10, 20: 26, 21: 22, 22: 10, 23: 15, 24: 13, 25: 20, 26: 8, 27: 3, 28: 10, 29: 14, 30: 7, 31: 9, 32: 4, 33: 3, 34: 14, 35: 14, 36: 10, 37: 3, 38: 12, 39: 7, 40: 11, 41: 15, 42: 5, 43: 6, 44: 7, 45: 2, 46: 6, 47: 6, 48: 1, 49: 8, 50: 8, 51: 1, 52: 5, 53: 6, 54: 4, 55: 9, 56: 5, 57: 5, 58: 10, 59: 3, 60: 16, 61: 4, 62: 3, 63: 4, 64: 1, 65: 7, 66: 5, 67: 4, 68: 3, 69: 4, 70: 12, 71: 8, 72: 5, 73: 6, 74: 15, 75: 5, 76: 4, 77: 2, 78: 5, 79: 7, 80: 6, 81: 1, 82: 5, 83: 3, 84: 4, 85: 7, 86: 1, 87: 1, 88: 5, 89: 3, 90: 3, 91: 2, 92: 1, 93: 1, 94: 1, 95: 1, 96: 1, 97: 2, 98: 1})"
      ]
     },
     "execution_count": 3,
     "metadata": {},
     "output_type": "execute_result"
    }
   ],
   "source": [
    "nx.degree(G)"
   ]
  },
  {
   "cell_type": "markdown",
   "metadata": {},
   "source": [
    "## Closeness Centrality\n",
    "\n",
    "Next, let's discuss closeness. The closeness of a node is roughly the average distance from that node to any other node in the network. As such, it relies upon Dijkstra's algorithm in defining the distance between two nodes. \n"
   ]
  },
  {
   "cell_type": "code",
   "execution_count": 4,
   "metadata": {},
   "outputs": [
    {
     "name": "stdout",
     "output_type": "stream",
     "text": [
      "0.32540074853470796\n",
      "0.01020408163265306\n"
     ]
    }
   ],
   "source": [
    "#The Closeness for a central node\n",
    "print(nx.closeness_centrality(G, 4))\n",
    "#The Closeness Metric for an ostracized node\n",
    "print(nx.closeness_centrality(G, 86))"
   ]
  },
  {
   "cell_type": "markdown",
   "metadata": {},
   "source": [
    "## Betweeness Centrality\n",
    "\n",
    "Rather then simply looking at the distance between nodes, betweeness centrality investigates whether a node is a key stepping stone in moving between nodes. More specifically, betweeness investigates the number of shortest paths that a node lies on. To calculate betweeness, you must first calculate the shortest path between all node pairs using Dijkstra's algorithm. From there, one counts the number of paths from this output that the node in question lies on. Finally, this number is then normalized to be on a scale from 0 to 1. In other words, in order to compute betweeness for a single node, one must count the number of shortest paths each node lies on. The normalization from 0 to 1 involves subtracting the minimum number of paths any node in the network lies on and dividing by the maximum number of paths any node lies on."
   ]
  },
  {
   "cell_type": "code",
   "execution_count": 5,
   "metadata": {},
   "outputs": [
    {
     "name": "stdout",
     "output_type": "stream",
     "text": [
      "0.016522004108264238\n",
      "0.0\n"
     ]
    }
   ],
   "source": [
    "#The Betweeness Metric for a central node\n",
    "print(nx.betweenness_centrality(G)[4])\n",
    "#The Betweeness Metric for an ostracized node\n",
    "print(nx.betweenness_centrality(G)[86])"
   ]
  },
  {
   "cell_type": "markdown",
   "metadata": {},
   "source": [
    "## Eigenvector Centrality\n",
    "\n",
    "Eigenvector centrality is an iterative algorithm that attempts to measure a nodes relative influence in the network. The underlying motivation is that degree centrality can be refined to incorporate the relative importance of neighboring nodes. In other words, a connection to a central node is more important then a connection to an isolated one. As with the previous measures of centrality, NetworkX makes calculting the eigenvector centrality quite easy."
   ]
  },
  {
   "cell_type": "code",
   "execution_count": 6,
   "metadata": {},
   "outputs": [
    {
     "name": "stdout",
     "output_type": "stream",
     "text": [
      "0.028875860204350325\n",
      "2.505996464597042e-27\n"
     ]
    }
   ],
   "source": [
    "nx.eigenvector_centrality(G)\n",
    "# The eigenvector Metric for a central node\n",
    "print(nx.eigenvector_centrality(G)[4])\n",
    "#The eigenvector Metric for an ostracized node\n",
    "print(nx.eigenvector_centrality(G)[86])"
   ]
  },
  {
   "cell_type": "markdown",
   "metadata": {},
   "source": [
    "## Putting it All Together\n",
    "\n",
    "With that, let's investigate some of these measures for the twitter network displayed above. To do this, take a look at a few different types of nodes in the network based on their relationship to the overall group. How would you expect the centrality metrics would compare between some of these various groups?\n",
    "\n",
    "<img src=\"images/node_examples.png\">"
   ]
  },
  {
   "cell_type": "code",
   "execution_count": 35,
   "metadata": {},
   "outputs": [
    {
     "data": {
      "text/html": [
       "<div>\n",
       "<style scoped>\n",
       "    .dataframe tbody tr th:only-of-type {\n",
       "        vertical-align: middle;\n",
       "    }\n",
       "\n",
       "    .dataframe tbody tr th {\n",
       "        vertical-align: top;\n",
       "    }\n",
       "\n",
       "    .dataframe thead th {\n",
       "        text-align: right;\n",
       "    }\n",
       "</style>\n",
       "<table border=\"1\" class=\"dataframe\">\n",
       "  <thead>\n",
       "    <tr style=\"text-align: right;\">\n",
       "      <th></th>\n",
       "      <th>degrees</th>\n",
       "      <th>closeness</th>\n",
       "      <th>betweeness</th>\n",
       "      <th>eigs</th>\n",
       "      <th>group</th>\n",
       "    </tr>\n",
       "  </thead>\n",
       "  <tbody>\n",
       "    <tr>\n",
       "      <th>86</th>\n",
       "      <td>0.010204</td>\n",
       "      <td>0.010204</td>\n",
       "      <td>0.000000</td>\n",
       "      <td>2.505996e-27</td>\n",
       "      <td>islanders</td>\n",
       "    </tr>\n",
       "    <tr>\n",
       "      <th>87</th>\n",
       "      <td>0.010204</td>\n",
       "      <td>0.010204</td>\n",
       "      <td>0.000000</td>\n",
       "      <td>2.505996e-27</td>\n",
       "      <td>islanders</td>\n",
       "    </tr>\n",
       "    <tr>\n",
       "      <th>51</th>\n",
       "      <td>0.010204</td>\n",
       "      <td>0.271794</td>\n",
       "      <td>0.000000</td>\n",
       "      <td>2.311366e-03</td>\n",
       "      <td>penisulas</td>\n",
       "    </tr>\n",
       "    <tr>\n",
       "      <th>92</th>\n",
       "      <td>0.010204</td>\n",
       "      <td>0.271794</td>\n",
       "      <td>0.000000</td>\n",
       "      <td>2.311366e-03</td>\n",
       "      <td>penisulas</td>\n",
       "    </tr>\n",
       "    <tr>\n",
       "      <th>98</th>\n",
       "      <td>0.010204</td>\n",
       "      <td>0.271794</td>\n",
       "      <td>0.000000</td>\n",
       "      <td>2.311366e-03</td>\n",
       "      <td>penisulas</td>\n",
       "    </tr>\n",
       "    <tr>\n",
       "      <th>95</th>\n",
       "      <td>0.010204</td>\n",
       "      <td>0.245537</td>\n",
       "      <td>0.000000</td>\n",
       "      <td>1.181819e-03</td>\n",
       "      <td>penisulas</td>\n",
       "    </tr>\n",
       "    <tr>\n",
       "      <th>52</th>\n",
       "      <td>0.051020</td>\n",
       "      <td>0.374665</td>\n",
       "      <td>0.059331</td>\n",
       "      <td>2.715085e-02</td>\n",
       "      <td>bridges</td>\n",
       "    </tr>\n",
       "    <tr>\n",
       "      <th>96</th>\n",
       "      <td>0.010204</td>\n",
       "      <td>0.304339</td>\n",
       "      <td>0.000000</td>\n",
       "      <td>8.021756e-03</td>\n",
       "      <td>bridges</td>\n",
       "    </tr>\n",
       "    <tr>\n",
       "      <th>57</th>\n",
       "      <td>0.051020</td>\n",
       "      <td>0.318782</td>\n",
       "      <td>0.001811</td>\n",
       "      <td>7.223395e-02</td>\n",
       "      <td>periphial</td>\n",
       "    </tr>\n",
       "    <tr>\n",
       "      <th>97</th>\n",
       "      <td>0.020408</td>\n",
       "      <td>0.320958</td>\n",
       "      <td>0.000326</td>\n",
       "      <td>2.937446e-02</td>\n",
       "      <td>periphial</td>\n",
       "    </tr>\n",
       "    <tr>\n",
       "      <th>74</th>\n",
       "      <td>0.153061</td>\n",
       "      <td>0.452119</td>\n",
       "      <td>0.054725</td>\n",
       "      <td>1.593317e-01</td>\n",
       "      <td>centers</td>\n",
       "    </tr>\n",
       "    <tr>\n",
       "      <th>3</th>\n",
       "      <td>0.102041</td>\n",
       "      <td>0.400174</td>\n",
       "      <td>0.013053</td>\n",
       "      <td>1.024298e-01</td>\n",
       "      <td>centers</td>\n",
       "    </tr>\n",
       "    <tr>\n",
       "      <th>20</th>\n",
       "      <td>0.265306</td>\n",
       "      <td>0.508329</td>\n",
       "      <td>0.146951</td>\n",
       "      <td>2.782426e-01</td>\n",
       "      <td>centers</td>\n",
       "    </tr>\n",
       "  </tbody>\n",
       "</table>\n",
       "</div>"
      ],
      "text/plain": [
       "     degrees  closeness  betweeness          eigs      group\n",
       "86  0.010204   0.010204    0.000000  2.505996e-27  islanders\n",
       "87  0.010204   0.010204    0.000000  2.505996e-27  islanders\n",
       "51  0.010204   0.271794    0.000000  2.311366e-03  penisulas\n",
       "92  0.010204   0.271794    0.000000  2.311366e-03  penisulas\n",
       "98  0.010204   0.271794    0.000000  2.311366e-03  penisulas\n",
       "95  0.010204   0.245537    0.000000  1.181819e-03  penisulas\n",
       "52  0.051020   0.374665    0.059331  2.715085e-02    bridges\n",
       "96  0.010204   0.304339    0.000000  8.021756e-03    bridges\n",
       "57  0.051020   0.318782    0.001811  7.223395e-02  periphial\n",
       "97  0.020408   0.320958    0.000326  2.937446e-02  periphial\n",
       "74  0.153061   0.452119    0.054725  1.593317e-01    centers\n",
       "3   0.102041   0.400174    0.013053  1.024298e-01    centers\n",
       "20  0.265306   0.508329    0.146951  2.782426e-01    centers"
      ]
     },
     "execution_count": 35,
     "metadata": {},
     "output_type": "execute_result"
    }
   ],
   "source": [
    "import pandas as pd\n",
    "\n",
    "degrees = nx.degree_centrality(G)\n",
    "closeness = nx.closeness_centrality(G)\n",
    "betweeness = nx.betweenness_centrality(G)\n",
    "eigs = nx.eigenvector_centrality(G)\n",
    "df = pd.DataFrame([degrees, closeness, betweeness, eigs]).transpose()\n",
    "df.columns = [\"degrees\", \"closeness\", \"betweeness\", \"eigs\"]\n",
    "#Some Nodes to Investigate\n",
    "islanders = [86,87]\n",
    "penisulas = [51,92,98,95]\n",
    "bridges = [52,96]\n",
    "periphial = [57,97]\n",
    "centers = [74,3,20]\n",
    "temp = {\"islanders\":islanders,\n",
    "       \"penisulas\":penisulas,\n",
    "       \"bridges\":bridges,\n",
    "       \"periphial\":periphial,\n",
    "       \"centers\":centers}\n",
    "node_label_dict = {}\n",
    "for label in temp.keys():\n",
    "    nodes = temp[label]\n",
    "    for node in nodes:\n",
    "        node_label_dict[node]=label\n",
    "ex_nodes = islanders + penisulas + bridges + periphial + centers\n",
    "df['group'] = df.index.map(node_label_dict)\n",
    "df.iloc[ex_nodes]"
   ]
  },
  {
   "cell_type": "code",
   "execution_count": 36,
   "metadata": {},
   "outputs": [
    {
     "data": {
      "text/html": [
       "<div>\n",
       "<style scoped>\n",
       "    .dataframe tbody tr th:only-of-type {\n",
       "        vertical-align: middle;\n",
       "    }\n",
       "\n",
       "    .dataframe tbody tr th {\n",
       "        vertical-align: top;\n",
       "    }\n",
       "\n",
       "    .dataframe thead th {\n",
       "        text-align: right;\n",
       "    }\n",
       "</style>\n",
       "<table border=\"1\" class=\"dataframe\">\n",
       "  <thead>\n",
       "    <tr style=\"text-align: right;\">\n",
       "      <th></th>\n",
       "      <th>degrees</th>\n",
       "      <th>closeness</th>\n",
       "      <th>betweeness</th>\n",
       "      <th>eigs</th>\n",
       "    </tr>\n",
       "    <tr>\n",
       "      <th>group</th>\n",
       "      <th></th>\n",
       "      <th></th>\n",
       "      <th></th>\n",
       "      <th></th>\n",
       "    </tr>\n",
       "  </thead>\n",
       "  <tbody>\n",
       "    <tr>\n",
       "      <th>bridges</th>\n",
       "      <td>0.030612</td>\n",
       "      <td>0.339502</td>\n",
       "      <td>0.029665</td>\n",
       "      <td>1.758630e-02</td>\n",
       "    </tr>\n",
       "    <tr>\n",
       "      <th>centers</th>\n",
       "      <td>0.173469</td>\n",
       "      <td>0.453541</td>\n",
       "      <td>0.071576</td>\n",
       "      <td>1.800014e-01</td>\n",
       "    </tr>\n",
       "    <tr>\n",
       "      <th>islanders</th>\n",
       "      <td>0.010204</td>\n",
       "      <td>0.010204</td>\n",
       "      <td>0.000000</td>\n",
       "      <td>2.505996e-27</td>\n",
       "    </tr>\n",
       "    <tr>\n",
       "      <th>penisulas</th>\n",
       "      <td>0.010204</td>\n",
       "      <td>0.265230</td>\n",
       "      <td>0.000000</td>\n",
       "      <td>2.028979e-03</td>\n",
       "    </tr>\n",
       "    <tr>\n",
       "      <th>periphial</th>\n",
       "      <td>0.035714</td>\n",
       "      <td>0.319870</td>\n",
       "      <td>0.001069</td>\n",
       "      <td>5.080421e-02</td>\n",
       "    </tr>\n",
       "  </tbody>\n",
       "</table>\n",
       "</div>"
      ],
      "text/plain": [
       "            degrees  closeness  betweeness          eigs\n",
       "group                                                   \n",
       "bridges    0.030612   0.339502    0.029665  1.758630e-02\n",
       "centers    0.173469   0.453541    0.071576  1.800014e-01\n",
       "islanders  0.010204   0.010204    0.000000  2.505996e-27\n",
       "penisulas  0.010204   0.265230    0.000000  2.028979e-03\n",
       "periphial  0.035714   0.319870    0.001069  5.080421e-02"
      ]
     },
     "execution_count": 36,
     "metadata": {},
     "output_type": "execute_result"
    }
   ],
   "source": [
    "df.groupby('group').mean()"
   ]
  },
  {
   "cell_type": "markdown",
   "metadata": {},
   "source": [
    "As you can see, the central nodes have the highest measures of centrality across the board. Interestingly, the \"bridge\" nodes, which connect some outside nodes to the center have a fairly high level of betweeness due to their importance in maintaining this intermediate relationship. Additionally, of the center nodes, node 20 appears to be particularly influential given its exceedingly large betweeness centrality."
   ]
  },
  {
   "cell_type": "markdown",
   "metadata": {},
   "source": [
    "## Summary\n",
    "\n",
    "In this lesson you investigated concepts of centrality in networks. Specifically, you took a look at four measures of centrality: degree, closeness, betweeness and eigenvector centrality. From here, you'll further investigate these concepts and their interpretation in the context of a real world social network."
   ]
  }
 ],
 "metadata": {
  "kernelspec": {
   "display_name": "Python 3",
   "language": "python",
   "name": "python3"
  },
  "language_info": {
   "codemirror_mode": {
    "name": "ipython",
    "version": 3
   },
   "file_extension": ".py",
   "mimetype": "text/x-python",
   "name": "python",
   "nbconvert_exporter": "python",
   "pygments_lexer": "ipython3",
   "version": "3.6.6"
  }
 },
 "nbformat": 4,
 "nbformat_minor": 2
}
